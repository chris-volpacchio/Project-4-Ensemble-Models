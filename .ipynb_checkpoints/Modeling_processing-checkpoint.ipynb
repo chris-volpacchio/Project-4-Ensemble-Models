{
 "cells": [
  {
   "cell_type": "code",
   "execution_count": 14,
   "metadata": {
    "_cell_guid": "b1076dfc-b9ad-4769-8c92-a6c4dae69d19",
    "_uuid": "8f2839f25d086af736a60e9eeb907d3b93b6e0e5"
   },
   "outputs": [],
   "source": [
    "# This Python 3 environment comes with many helpful analytics libraries installed\n",
    "# It is defined by the kaggle/python Docker image: https://github.com/kaggle/docker-python\n",
    "# For example, here's several helpful packages to load\n",
    "\n",
    "import numpy as np # linear algebra\n",
    "import pandas as pd # data processing, CSV file I/O (e.g. pd.read_csv)\n",
    "import matplotlib.pyplot as plt\n",
    "import seaborn as sns\n",
    "import ast \n",
    "from sklearn.linear_model import LinearRegression, Lasso\n",
    "from sklearn.model_selection import cross_val_score, train_test_split\n",
    "from sklearn.preprocessing import PolynomialFeatures, StandardScaler\n",
    "\n",
    "from sklearn.neighbors import KNeighborsRegressor\n",
    "from sklearn.tree import DecisionTreeRegressor\n",
    "from sklearn.ensemble import AdaBoostRegressor, \\\n",
    "BaggingRegressor, RandomForestRegressor, _bagging\n",
    "from sklearn.svm import SVR\n",
    "from sklearn.pipeline import Pipeline\n",
    "from sklearn.ensemble import VotingRegressor\n",
    "# Input data files are available in the read-only \"../input/\" directory\n",
    "# For example, running this (by clicking run or pressing Shift+Enter) will list all files under the input directory\n",
    "\n",
    "import os\n",
    "\n",
    "# You can write up to 5GB to the current directory (/kaggle/working/) that gets preserved as output when you create a version using \"Save & Run All\" \n",
    "# You can also write temporary files to /kaggle/temp/, but they won't be saved outside of the current session\n",
    "\n"
   ]
  },
  {
   "cell_type": "code",
   "execution_count": 42,
   "metadata": {
    "_cell_guid": "79c7e3d0-c299-4dcb-8224-4455121ee9b0",
    "_uuid": "d629ff2d2480ee46fbb7e2d37f6b5fab8052498a"
   },
   "outputs": [],
   "source": [
    "df = pd.read_csv('df_clean.csv',index_col=0)\n",
    "testdf = pd.read_csv('testf_clean.csv',index_col=0)"
   ]
  },
  {
   "cell_type": "code",
   "execution_count": 43,
   "metadata": {},
   "outputs": [],
   "source": [
    "pd.set_option('display.max_colwidth', 500)"
   ]
  },
  {
   "cell_type": "code",
   "execution_count": 44,
   "metadata": {},
   "outputs": [
    {
     "data": {
      "text/plain": [
       "Index(['id', 'belongs_to_collection', 'budget', 'genres', 'homepage',\n",
       "       'imdb_id', 'original_language', 'original_title', 'overview',\n",
       "       'popularity', 'poster_path', 'production_companies',\n",
       "       'production_countries', 'release_date', 'runtime', 'spoken_languages',\n",
       "       'status', 'tagline', 'title', 'Keywords', 'cast', 'crew', 'revenue',\n",
       "       'crew_num', 'cast_num', 'spoken_languages_num', 'is_en', 'Comedy',\n",
       "       'Drama', 'Family', 'Romance', 'Thriller', 'Action', 'Animation',\n",
       "       'Adventure', 'Horror', 'Documentary', 'Music', 'Crime',\n",
       "       'Science Fiction', 'Mystery', 'Foreign', 'Fantasy', 'War', 'Western',\n",
       "       'History', 'TV Movie'],\n",
       "      dtype='object')"
      ]
     },
     "execution_count": 44,
     "metadata": {},
     "output_type": "execute_result"
    }
   ],
   "source": [
    "df.columns"
   ]
  },
  {
   "cell_type": "code",
   "execution_count": 45,
   "metadata": {},
   "outputs": [],
   "source": [
    "df['runtime'].mask(df['runtime']==0, df['runtime'].median(),inplace=True)\n",
    "testdf['runtime'].mask(testdf['runtime']==0, testdf['runtime'].median(),inplace=True)\n",
    "df['runtime'].fillna(df['runtime'].median(),inplace=True)\n",
    "testdf['runtime'].fillna(testdf['runtime'].median(),inplace=True)\n",
    "df['popularity'].fillna(df['popularity'].mean(), inplace = True)\n",
    "testdf['popularity'].fillna(df['popularity'].mean(), inplace = True)\n",
    "\n",
    "mean_crew = df['crew_num'].mean()\n",
    "df['crew_num'].fillna(mean_crew, inplace=True)\n",
    "mean_cast = df['cast_num'].mean()\n",
    "df['cast_num'].fillna(mean_cast, inplace=True)\n",
    "\n",
    "mean_crew = testdf['crew_num'].mean()\n",
    "testdf['crew_num'].fillna(mean_crew, inplace=True)\n",
    "mean_cast = testdf['cast_num'].mean()\n",
    "testdf['cast_num'].fillna(mean_cast, inplace=True)\n",
    "\n",
    "df['spoken_languages_num'].fillna(df['spoken_languages_num'].median(),inplace=True)\n",
    "testdf['spoken_languages_num'].fillna(testdf['spoken_languages_num'].median(),inplace=True)\n",
    "\n"
   ]
  },
  {
   "cell_type": "code",
   "execution_count": 46,
   "metadata": {},
   "outputs": [],
   "source": [
    "features = ['budget','popularity', 'runtime','Comedy',\n",
    "       'Drama', 'Family', 'Romance', 'Thriller', 'Action', 'Animation',\n",
    "       'Adventure', 'Horror', 'Documentary', 'Music', 'Crime',\n",
    "       'Science Fiction', 'Mystery', 'Foreign', 'Fantasy', 'War', 'Western',\n",
    "       'History', 'TV Movie', 'crew_num', 'cast_num', 'spoken_languages_num',\n",
    "       'is_en']\n",
    "X = df[features]\n",
    "y = df['revenue']"
   ]
  },
  {
   "cell_type": "code",
   "execution_count": 7,
   "metadata": {
    "collapsed": true
   },
   "outputs": [
    {
     "name": "stdout",
     "output_type": "stream",
     "text": [
      "<class 'pandas.core.frame.DataFrame'>\n",
      "Int64Index: 3000 entries, 0 to 2999\n",
      "Data columns (total 27 columns):\n",
      " #   Column                Non-Null Count  Dtype  \n",
      "---  ------                --------------  -----  \n",
      " 0   budget                3000 non-null   float64\n",
      " 1   popularity            3000 non-null   float64\n",
      " 2   runtime               3000 non-null   float64\n",
      " 3   Comedy                3000 non-null   int64  \n",
      " 4   Drama                 3000 non-null   int64  \n",
      " 5   Family                3000 non-null   int64  \n",
      " 6   Romance               3000 non-null   int64  \n",
      " 7   Thriller              3000 non-null   int64  \n",
      " 8   Action                3000 non-null   int64  \n",
      " 9   Animation             3000 non-null   int64  \n",
      " 10  Adventure             3000 non-null   int64  \n",
      " 11  Horror                3000 non-null   int64  \n",
      " 12  Documentary           3000 non-null   int64  \n",
      " 13  Music                 3000 non-null   int64  \n",
      " 14  Crime                 3000 non-null   int64  \n",
      " 15  Science Fiction       3000 non-null   int64  \n",
      " 16  Mystery               3000 non-null   int64  \n",
      " 17  Foreign               3000 non-null   int64  \n",
      " 18  Fantasy               3000 non-null   int64  \n",
      " 19  War                   3000 non-null   int64  \n",
      " 20  Western               3000 non-null   int64  \n",
      " 21  History               3000 non-null   int64  \n",
      " 22  TV Movie              3000 non-null   int64  \n",
      " 23  crew_num              3000 non-null   float64\n",
      " 24  cast_num              3000 non-null   float64\n",
      " 25  spoken_languages_num  3000 non-null   float64\n",
      " 26  is_en                 3000 non-null   int64  \n",
      "dtypes: float64(6), int64(21)\n",
      "memory usage: 656.2 KB\n"
     ]
    }
   ],
   "source": [
    "X.info()"
   ]
  },
  {
   "cell_type": "code",
   "execution_count": 8,
   "metadata": {},
   "outputs": [
    {
     "data": {
      "image/png": "[encoded data removed]",
      "text/plain": [
       "<Figure size 1800x1800 with 2 Axes>"
      ]
     },
     "metadata": {
      "needs_background": "light"
     },
     "output_type": "display_data"
    }
   ],
   "source": [
    "plt.figure(figsize=(25,25))\n",
    "sns.heatmap(xp.corr()[['revenue']].sort_values('revenue'),cmap = 'coolwarm', annot=True);"
   ]
  },
  {
   "cell_type": "code",
   "execution_count": 41,
   "metadata": {},
   "outputs": [
    {
     "data": {
      "text/plain": [
       "0.6928338200054124"
      ]
     },
     "execution_count": 41,
     "metadata": {},
     "output_type": "execute_result"
    }
   ],
   "source": [
    "lr = LinearRegression()\n",
    "X_train, X_test, y_train, y_test = train_test_split(X, y, random_state = 241)\n",
    "lr.fit(X_train, y_train)\n",
    "lr.score(X_test,y_test)"
   ]
  },
  {
   "cell_type": "code",
   "execution_count": 47,
   "metadata": {},
   "outputs": [
    {
     "data": {
      "text/plain": [
       "array([-2.10135629e+07,  4.15919827e+07,  7.25686829e+06,  6.46208920e+07,\n",
       "        6.61592773e+06, -2.33012981e+07,  4.17904941e+07,  1.55819751e+07,\n",
       "        1.76597099e+08,  4.85113870e+06,  3.26244285e+06,  9.66322146e+07,\n",
       "       -4.30100412e+06,  8.17770182e+07,  6.28143757e+07,  5.82785405e+07,\n",
       "        7.60543378e+07, -8.61516206e+06,  6.71443234e+07,  3.70056100e+07,\n",
       "       -4.70984231e+05, -1.73362152e+07,  5.00814424e+07,  2.14636152e+07,\n",
       "        8.07762880e+07,  3.42705243e+07, -8.60300130e+07, -1.21516311e+07,\n",
       "        8.20412213e+07, -3.73449909e+07,  6.09827245e+07,  1.07031513e+07,\n",
       "        1.53998226e+07,  2.23381948e+07, -5.92687296e+06,  7.94538864e+07,\n",
       "        4.40345601e+08,  8.56398150e+07,  2.04347337e+07,  1.35296523e+08,\n",
       "        9.00283140e+07, -4.40275866e+07,  5.89401881e+07,  1.22460228e+08,\n",
       "       -1.22735502e+07,  1.38478571e+08,  9.12678903e+06,  1.06981724e+08,\n",
       "        7.69941925e+07, -5.29144818e+07, -1.44520871e+07, -3.42016059e+07,\n",
       "        3.58191029e+07,  5.34274092e+07, -2.15123508e+07,  1.72398484e+08,\n",
       "        4.16149269e+06,  4.55536489e+07,  6.40112393e+07,  2.76412165e+07,\n",
       "        1.48312960e+08, -1.55682596e+07,  3.10226009e+07, -5.80982396e+07,\n",
       "        4.01828411e+07,  1.43664691e+08,  2.10473611e+08,  4.23703535e+07,\n",
       "        8.01081771e+06,  2.59983776e+07, -4.36343477e+07,  7.89769797e+07,\n",
       "        1.31430641e+07,  1.51015730e+08,  6.73104479e+06,  3.62116857e+07,\n",
       "        7.69195017e+07,  1.01038146e+08,  1.45238967e+08,  8.90679832e+08,\n",
       "        8.02406127e+07, -2.60150993e+06,  1.11338404e+08,  3.30364017e+07,\n",
       "        2.51498782e+07, -1.85126840e+07,  2.03910717e+08,  2.64550636e+07,\n",
       "        5.68218370e+07,  2.96791606e+07,  6.74283616e+07,  3.37692279e+07,\n",
       "       -2.45427611e+07,  8.31922456e+07,  1.06348312e+07,  1.34577523e+07,\n",
       "        7.79586811e+06,  1.01442580e+08,  2.63684833e+07,  6.67883250e+07,\n",
       "        7.47671408e+07,  2.55945082e+07,  5.54766851e+08,  8.20457523e+07,\n",
       "       -2.87875775e+07,  4.19105392e+07, -3.34679182e+07,  8.19446125e+07,\n",
       "        1.07895966e+08,  3.19316728e+07,  3.81646740e+07,  5.22558240e+07,\n",
       "        4.28092287e+07,  8.89054006e+07, -9.16717515e+06,  2.26131636e+08,\n",
       "        2.58413239e+08,  1.40577446e+08,  6.60869737e+06,  9.44148015e+07,\n",
       "        1.51246497e+07,  3.80221840e+07,  2.56045340e+07,  4.61489656e+08,\n",
       "        1.00470167e+07,  4.61276408e+07,  5.20391826e+07,  1.20457348e+08,\n",
       "        4.44458032e+07,  9.33150911e+07,  5.87507211e+07,  2.19087794e+07,\n",
       "        8.14699656e+06,  2.17837923e+08,  3.02213504e+07,  1.41706627e+07,\n",
       "        2.32530738e+07, -7.82921818e+07, -2.14253601e+07,  5.34776486e+08,\n",
       "        1.25548503e+08, -2.51728825e+07, -2.87799122e+07,  1.16311368e+07,\n",
       "        3.96215146e+07,  1.18602745e+08,  8.71365116e+06,  2.47300793e+07,\n",
       "        4.68361964e+07,  4.35353476e+07,  3.84143622e+07,  2.31834989e+07,\n",
       "       -3.19448373e+07,  6.61486808e+07,  3.23486812e+07,  7.34360882e+07,\n",
       "        1.80421322e+08,  3.91962272e+07,  2.45318202e+08,  3.17640545e+08,\n",
       "        7.13127817e+07, -9.59545105e+06,  2.12083588e+08, -4.49052937e+07,\n",
       "        8.82420911e+07,  1.03002788e+08,  9.39967542e+07,  4.22275999e+06,\n",
       "       -1.46524954e+07, -5.25528969e+06,  1.40321367e+08, -1.73338855e+06,\n",
       "        1.96167014e+07,  3.02751906e+07,  7.43659360e+07,  7.45634160e+07,\n",
       "        2.10735711e+07,  3.20198464e+07,  6.46105995e+07,  9.26020775e+06,\n",
       "        1.49094919e+08,  6.71919168e+07,  9.11406259e+07,  2.79871928e+07,\n",
       "        3.65876758e+07,  5.58724182e+08,  5.44693778e+07,  2.21558130e+08,\n",
       "        3.22658398e+07,  8.90216609e+06,  3.75474040e+07,  2.95830965e+07,\n",
       "        4.28028013e+07,  5.50587161e+07, -7.35942827e+07,  1.04530902e+08,\n",
       "        3.65079506e+07,  3.21906840e+05,  1.12054439e+08,  1.10629103e+08,\n",
       "        8.99272066e+07, -2.38566855e+07,  9.16133181e+06,  8.31972752e+07,\n",
       "        2.17411964e+07, -3.36096430e+06,  1.77858864e+08,  4.09832663e+08,\n",
       "        6.50825365e+07, -8.31351614e+06,  1.23771418e+07,  2.42802064e+07,\n",
       "        5.64313666e+07,  4.28513506e+06, -2.76963894e+05,  8.80595784e+07,\n",
       "        6.64849623e+07,  1.25541096e+08,  6.23239632e+07,  1.25389631e+08,\n",
       "        7.54201867e+07,  3.38438590e+08,  9.90401749e+07,  8.98880225e+07,\n",
       "        6.97617728e+07,  1.89339096e+07,  1.95994851e+07,  4.73269311e+07,\n",
       "        5.15917445e+07,  6.30251343e+07,  4.38149220e+07,  5.05193453e+07,\n",
       "       -3.75370666e+07,  7.69984096e+07, -9.30697281e+06,  3.08127895e+07,\n",
       "        1.20860825e+07, -7.56017417e+07, -1.64731856e+07,  1.06853890e+08,\n",
       "        2.54600077e+07, -1.93011751e+07,  1.23438777e+08,  3.99068529e+07,\n",
       "       -1.32650669e+07, -5.92245739e+06,  4.12890839e+07,  7.80242240e+07,\n",
       "        2.20421811e+08,  3.48698484e+08,  7.09073715e+06,  7.09778339e+06,\n",
       "        1.07833583e+08,  2.58476486e+08,  2.43510208e+06,  6.40520827e+07,\n",
       "        3.31422392e+07,  1.93935921e+07,  1.59031334e+08,  1.99338077e+07,\n",
       "       -2.47085138e+07,  4.26732426e+07,  6.23250487e+07,  5.98261023e+07,\n",
       "       -2.20670019e+07,  1.72035047e+07,  1.69791985e+08, -1.09447488e+07,\n",
       "        3.00714722e+07,  1.16775034e+08,  4.13679106e+07, -1.39480994e+07,\n",
       "       -2.83174900e+07,  9.78356290e+07,  2.28991764e+07, -1.23536355e+07,\n",
       "        2.28835483e+08,  5.54991649e+07,  9.03765697e+07,  8.27064463e+07,\n",
       "       -8.91563530e+06,  5.95843264e+07,  7.05296262e+07,  2.43308781e+07,\n",
       "       -2.68365309e+07,  4.33899760e+07,  3.01086400e+07, -6.65877313e+06,\n",
       "       -2.99123570e+06, -9.45667944e+06,  1.24179853e+08,  4.64952997e+08,\n",
       "        3.33307977e+06,  6.38626287e+07,  8.80701162e+07,  1.00888093e+08,\n",
       "        8.33831028e+07, -4.05285859e+07,  8.83831058e+07,  4.06248674e+07,\n",
       "        1.06284289e+08,  9.67820474e+06, -4.62250979e+06,  1.16968749e+08,\n",
       "        5.23437013e+07,  7.56354146e+07,  5.45375049e+07,  1.64749889e+07,\n",
       "        2.31447321e+07, -5.48931102e+06,  1.31481840e+08,  7.00627445e+07,\n",
       "        3.11580122e+07,  6.47375267e+06, -1.59984290e+07,  6.34066947e+07,\n",
       "        5.94185887e+07,  1.93290826e+07,  3.58816145e+08,  8.34399857e+07,\n",
       "        7.55315244e+07,  1.62977189e+08,  6.33693648e+07,  1.61081548e+07,\n",
       "        6.67706394e+07,  1.15604052e+08,  3.65972737e+07, -1.54966192e+07,\n",
       "        1.83159130e+08,  6.12152425e+07,  2.30227917e+08,  3.59752870e+07,\n",
       "        8.03455345e+07,  6.07928526e+07, -1.35286506e+06, -3.72797248e+07,\n",
       "        8.00550613e+06,  1.34754745e+08,  6.34578197e+07,  6.43445073e+07,\n",
       "        1.83014521e+08,  8.62740618e+07,  7.64632080e+07,  1.66570818e+07,\n",
       "        1.37727654e+07,  8.44386511e+06,  3.98317385e+07,  2.36285392e+08,\n",
       "        1.76890731e+08,  3.03387157e+07, -1.16880297e+07,  1.83612643e+07,\n",
       "        1.04046736e+08,  2.14473263e+07,  1.95566479e+08,  9.44771886e+07,\n",
       "        2.92737564e+08,  4.31462395e+07,  4.82745597e+08,  1.26860694e+08,\n",
       "        1.09134393e+07,  7.98279306e+06, -1.61084622e+07,  2.24282049e+07,\n",
       "        1.28236572e+07,  3.02247758e+07,  1.83338808e+07, -3.13463807e+07,\n",
       "        5.01995329e+07,  1.94986938e+07,  1.43398942e+08,  4.84181752e+07,\n",
       "        1.29337096e+08,  1.41328272e+07,  1.57361757e+07, -1.52661971e+07,\n",
       "       -1.52778510e+05,  4.62793886e+07,  5.86380571e+06,  4.22300326e+07,\n",
       "        3.90533812e+07, -2.04618761e+07,  1.49951976e+08,  6.67896379e+07,\n",
       "        1.31048367e+07, -8.92039202e+05,  5.25033959e+05,  8.95509402e+07,\n",
       "       -4.26430075e+05,  6.36431151e+07,  1.49817812e+06,  7.79447402e+07,\n",
       "        4.09222008e+07,  4.88241368e+07,  5.67763928e+06,  4.33636500e+07,\n",
       "        6.15819726e+07,  3.37920638e+07,  5.35330162e+07,  3.67282254e+07,\n",
       "       -3.06094320e+06,  9.08620150e+06,  1.30671883e+08,  1.10033662e+08,\n",
       "        3.52460172e+07,  1.28005782e+08,  8.92148702e+07,  7.18088724e+08,\n",
       "       -8.86126584e+06,  3.22151378e+08,  1.38774987e+07,  1.48524806e+08,\n",
       "        4.67253184e+07,  2.13562585e+08, -1.22510507e+07, -1.89836751e+07,\n",
       "        1.83912937e+04,  1.00055289e+08, -5.18009491e+06, -4.60511523e+07,\n",
       "       -9.58962221e+06,  9.39144360e+07,  1.78613198e+08,  2.68660192e+07,\n",
       "        2.28116208e+07,  7.39047049e+04,  5.07646480e+08,  2.21338474e+07,\n",
       "       -1.10994450e+07,  4.93528181e+07,  6.52988512e+07,  2.42104502e+07,\n",
       "        6.43498907e+07,  8.45424709e+07,  2.56606490e+07,  4.28863562e+06,\n",
       "        5.94596833e+07,  2.78458717e+07,  2.73593679e+08,  4.80599463e+08,\n",
       "        9.97539472e+07,  5.97068694e+07,  1.68533444e+08, -3.69776494e+07,\n",
       "        7.01764755e+06,  6.04453036e+07,  6.48494110e+07,  8.66348795e+07,\n",
       "        1.53501736e+07,  5.95533790e+07, -2.94756259e+07,  1.34052420e+07,\n",
       "        6.97337616e+07, -1.81580979e+07,  9.12462250e+07,  3.54770497e+08,\n",
       "        5.74621408e+07,  3.72842931e+07,  9.08693507e+07,  1.69345978e+08,\n",
       "        4.12059868e+07, -2.68222715e+07,  2.13690350e+07,  6.72424216e+07,\n",
       "        8.37636771e+07,  6.80429677e+07,  1.24987302e+07,  2.49711358e+06,\n",
       "        6.61009635e+07, -1.51921013e+07,  2.68588565e+07, -2.91572762e+05,\n",
       "        1.18731980e+08, -4.83124539e+06, -3.57011010e+07, -1.48916148e+07,\n",
       "        3.49540511e+07,  1.98067932e+08,  3.56541558e+07,  8.24935710e+06,\n",
       "        9.91839181e+07, -1.03029913e+07,  7.21917808e+07,  2.31696309e+07,\n",
       "        2.60917754e+07,  4.19853336e+06,  6.31707148e+08,  3.74759280e+07,\n",
       "        2.20071778e+07,  7.19099210e+07,  5.01002585e+07,  6.77800690e+07,\n",
       "        4.27217993e+07,  1.13956613e+07,  1.60414017e+08,  1.30542134e+08,\n",
       "        7.14606684e+07,  4.29066941e+07,  1.76394643e+08,  2.29673296e+08,\n",
       "        9.04205286e+07,  4.00028623e+07,  1.50707809e+07,  9.56522977e+07,\n",
       "       -3.42975189e+07,  5.82905071e+07, -1.51489312e+07,  4.92637492e+07,\n",
       "       -8.85981408e+06,  1.40925973e+08,  5.18880441e+07, -2.48644858e+07,\n",
       "        8.77227364e+06,  1.24897711e+07,  6.36623548e+07, -3.48100638e+07,\n",
       "        1.94035372e+07, -1.44963078e+07,  2.27156153e+07,  6.61261750e+06,\n",
       "        5.02714566e+07,  7.78722812e+07,  5.86504417e+07,  3.29658677e+07,\n",
       "        7.73095072e+07,  3.55744660e+08,  2.93313399e+07, -1.53774720e+07,\n",
       "       -2.98068709e+07,  2.06304192e+08, -1.68109860e+06,  3.07546116e+07,\n",
       "        1.39659306e+07,  6.51517526e+07,  1.55216805e+08,  1.55937267e+07,\n",
       "        3.23993182e+07, -3.03129669e+07, -2.45805842e+07,  9.92043018e+07,\n",
       "        2.91240895e+07,  1.05631864e+07,  4.64225974e+08,  1.63580656e+06,\n",
       "        3.77667219e+08,  3.04381522e+07,  4.11263864e+07,  1.50546286e+07,\n",
       "        2.87573629e+06, -3.57715688e+06,  3.47684949e+08,  2.38075040e+08,\n",
       "        1.28399697e+07,  6.84822234e+06,  1.58686063e+06,  7.10684590e+07,\n",
       "        6.16098980e+07,  1.66782060e+08,  4.42139251e+07,  3.96473987e+07,\n",
       "        9.82740247e+07,  2.05845127e+07,  2.12253825e+07,  4.91086234e+07,\n",
       "        1.36272245e+07,  2.00640277e+08,  4.07747305e+07,  2.72654592e+07,\n",
       "        5.35531483e+07,  1.07326561e+08,  4.52588581e+07,  1.10027810e+08,\n",
       "        3.65487531e+07,  8.36115095e+07,  1.33772085e+08,  4.35751845e+07,\n",
       "        2.03815993e+07,  3.05919800e+08,  6.96164462e+07,  1.62486863e+07,\n",
       "       -2.07967549e+07,  2.37139242e+07,  6.92709061e+07,  1.09020614e+08,\n",
       "        1.17249720e+08,  4.02569650e+07,  1.08832429e+08,  2.12081265e+06,\n",
       "        6.93923910e+07, -1.90112699e+06,  1.81739069e+07,  4.34590668e+07,\n",
       "        3.21171820e+07,  6.58835731e+07,  4.63850960e+07,  3.33624188e+07,\n",
       "        8.24231254e+07,  3.69779994e+08,  7.75063977e+06,  2.93847049e+07,\n",
       "       -2.29713633e+07,  3.01934673e+08, -7.81793842e+05,  6.57313290e+07,\n",
       "        3.61901722e+07,  7.78109152e+07,  9.86663751e+07, -4.29579010e+06,\n",
       "       -3.29386385e+07,  2.78874898e+07,  1.59346042e+07,  5.02217670e+07,\n",
       "        6.08678550e+07, -8.17129490e+06, -6.67607961e+05, -7.32375008e+06,\n",
       "        1.57812221e+07,  5.89145300e+07,  2.25445284e+07,  6.48691327e+07,\n",
       "        1.30132539e+08,  7.75289133e+07,  3.33643799e+07,  1.02810377e+07,\n",
       "        4.18327299e+07,  7.80259327e+07,  7.77838731e+07,  3.96676339e+07,\n",
       "        9.06972693e+07, -3.29926342e+07,  4.73435421e+07,  7.36379945e+08,\n",
       "        1.77437451e+08,  1.64026840e+08,  2.03499813e+07, -3.16154235e+07,\n",
       "        5.10302568e+07,  9.55587022e+07,  7.15203593e+07,  2.66627228e+07,\n",
       "        2.36755216e+08,  1.68142250e+08,  5.47771011e+07,  1.16018074e+08,\n",
       "       -4.97610302e+07,  2.47058477e+07, -1.36099131e+07,  3.30355423e+07,\n",
       "        1.99398590e+08,  1.86648075e+08,  3.82777235e+07,  4.91919579e+07,\n",
       "        6.23201132e+07,  1.05023826e+08,  3.67875936e+05,  9.74386837e+07,\n",
       "        4.50366024e+07, -4.33592331e+07,  4.30244969e+07,  5.47501962e+07,\n",
       "        1.47103237e+08,  2.02674048e+07,  6.91585765e+07,  2.24072374e+07,\n",
       "        3.93778596e+08,  2.09816395e+07, -1.36879175e+07,  7.37698016e+08,\n",
       "        6.65184886e+07,  6.55203101e+08,  7.79162383e+07,  1.55270142e+07,\n",
       "        1.22423812e+08,  9.80859578e+07,  1.68179245e+07,  3.74683335e+07,\n",
       "        1.98053799e+06, -9.50134354e+06,  1.06049673e+08,  3.22760521e+07,\n",
       "       -3.21458246e+07,  4.64294418e+07,  9.96602133e+07,  8.56736230e+06,\n",
       "        5.19635462e+07,  1.39960502e+08,  2.78559167e+06,  2.83060160e+08,\n",
       "       -9.67294601e+05,  1.50985510e+08,  3.21546429e+07,  2.94102375e+06,\n",
       "        6.21483706e+07,  9.07770761e+06,  2.27115641e+07, -3.34520492e+07,\n",
       "        7.70782751e+07, -3.78900303e+07,  1.55028407e+08,  2.36731436e+07,\n",
       "        3.03316874e+06,  2.01005532e+08,  5.28706417e+07,  4.33644808e+07,\n",
       "       -1.02199705e+07,  8.17878806e+07,  2.12042483e+07,  4.35437322e+07,\n",
       "        1.04482554e+08,  3.40294915e+07, -7.63500687e+07, -2.13778732e+07,\n",
       "       -3.48328742e+07,  1.65097389e+08,  3.86280345e+07,  1.62932804e+08,\n",
       "        3.03250777e+07,  2.70741879e+07,  1.52855910e+08,  2.97119801e+08,\n",
       "        6.09947401e+07, -1.87095562e+06,  5.25178459e+07,  3.04692031e+07,\n",
       "        4.15759580e+07,  2.00119380e+07,  2.35778491e+08,  6.57871657e+07,\n",
       "        1.02491026e+08, -2.35292043e+06, -2.80861256e+06, -2.21899522e+07,\n",
       "        2.36038588e+07,  3.59278624e+07,  1.06399958e+08,  1.50181304e+07,\n",
       "        3.07989800e+07,  2.82357597e+07,  2.16952146e+07, -1.26564997e+07,\n",
       "        1.15244134e+08,  5.52960853e+07,  2.75957106e+07,  6.44747611e+08,\n",
       "       -9.04739140e+06,  7.08345403e+07,  6.41050528e+07,  4.11215401e+07,\n",
       "        1.19605680e+08,  3.69351453e+07])"
      ]
     },
     "execution_count": 47,
     "metadata": {},
     "output_type": "execute_result"
    }
   ],
   "source": [
    "lr.predict(X_test)"
   ]
  },
  {
   "cell_type": "code",
   "execution_count": 15,
   "metadata": {},
   "outputs": [],
   "source": [
    "X_train, X_test, y_train, y_test = train_test_split(X, y, random_state = 42)"
   ]
  },
  {
   "cell_type": "code",
   "execution_count": null,
   "metadata": {},
   "outputs": [],
   "source": [
    "lr = LinearRegression()\n",
    "scores = []\n",
    "for x in range(300):\n",
    "    X_train, X_test, y_train, y_test = train_test_split(X, y, random_state = x)\n",
    "    lr.fit(X_train, y_train)\n",
    "    scores.append(lr.score(X_test, y_test))\n",
    "    if lr.score(X_test, y_test)>.692:\n",
    "        print(x)\n",
    "\n",
    "max(scores)"
   ]
  },
  {
   "cell_type": "code",
   "execution_count": 11,
   "metadata": {},
   "outputs": [
    {
     "name": "stderr",
     "output_type": "stream",
     "text": [
      "C:\\Users\\inser\\anaconda3\\envs\\dsi\\lib\\site-packages\\sklearn\\linear_model\\_coordinate_descent.py:476: ConvergenceWarning: Objective did not converge. You might want to increase the number of iterations. Duality gap: 4.213772560391737e+18, tolerance: 3736919583251384.0\n",
      "  positive)\n",
      "C:\\Users\\inser\\anaconda3\\envs\\dsi\\lib\\site-packages\\sklearn\\linear_model\\_coordinate_descent.py:476: ConvergenceWarning: Objective did not converge. You might want to increase the number of iterations. Duality gap: 4.3899225540312023e+18, tolerance: 3579589850114138.0\n",
      "  positive)\n",
      "C:\\Users\\inser\\anaconda3\\envs\\dsi\\lib\\site-packages\\sklearn\\linear_model\\_coordinate_descent.py:476: ConvergenceWarning: Objective did not converge. You might want to increase the number of iterations. Duality gap: 4.383340886579525e+18, tolerance: 3670308016733311.0\n",
      "  positive)\n",
      "C:\\Users\\inser\\anaconda3\\envs\\dsi\\lib\\site-packages\\sklearn\\linear_model\\_coordinate_descent.py:476: ConvergenceWarning: Objective did not converge. You might want to increase the number of iterations. Duality gap: 3.3682599144009564e+18, tolerance: 3261784242878165.5\n",
      "  positive)\n",
      "C:\\Users\\inser\\anaconda3\\envs\\dsi\\lib\\site-packages\\sklearn\\linear_model\\_coordinate_descent.py:476: ConvergenceWarning: Objective did not converge. You might want to increase the number of iterations. Duality gap: 4.3060094524922076e+18, tolerance: 3397402567162437.5\n",
      "  positive)\n"
     ]
    },
    {
     "data": {
      "text/plain": [
       "0.49378423396337523"
      ]
     },
     "execution_count": 11,
     "metadata": {},
     "output_type": "execute_result"
    }
   ],
   "source": [
    "poly = PolynomialFeatures(degree=2, interaction_only=False, include_bias=False)\n",
    "X_train = poly.fit_transform(X_train)\n",
    "X_test = poly.transform(X_test)\n",
    "ss = StandardScaler()\n",
    "X_train = ss.fit_transform(X_train)\n",
    "X_test = ss.transform(X_test)\n",
    "l1 = Lasso(alpha = 100)\n",
    "cross_val_score(l1, X_train, y_train).mean()"
   ]
  },
  {
   "cell_type": "code",
   "execution_count": 32,
   "metadata": {},
   "outputs": [
    {
     "data": {
      "text/plain": [
       "VotingRegressor(estimators=[('knn',\n",
       "                             Pipeline(memory=None,\n",
       "                                      steps=[('knn',\n",
       "                                              KNeighborsRegressor(algorithm='auto',\n",
       "                                                                  leaf_size=30,\n",
       "                                                                  metric='minkowski',\n",
       "                                                                  metric_params=None,\n",
       "                                                                  n_jobs=None,\n",
       "                                                                  n_neighbors=5,\n",
       "                                                                  p=2,\n",
       "                                                                  weights='uniform'))],\n",
       "                                      verbose=False)),\n",
       "                            ('dt',\n",
       "                             DecisionTreeRegressor(ccp_alpha=0.0,\n",
       "                                                   criterion='mse',\n",
       "                                                   max_depth=None,\n",
       "                                                   max_features=None,\n",
       "                                                   max_leaf_nodes=None,\n",
       "                                                   min_impurity_d...\n",
       "                                                                                   min_impurity_decrease=0.0,\n",
       "                                                                                   min_impurity_split=None,\n",
       "                                                                                   min_samples_leaf=1,\n",
       "                                                                                   min_samples_split=2,\n",
       "                                                                                   min_weight_fraction_leaf=0.0,\n",
       "                                                                                   presort='deprecated',\n",
       "                                                                                   random_state=None,\n",
       "                                                                                   splitter='best'),\n",
       "                                              bootstrap=True,\n",
       "                                              bootstrap_features=False,\n",
       "                                              max_features=1.0, max_samples=1.0,\n",
       "                                              n_estimators=10, n_jobs=None,\n",
       "                                              oob_score=False,\n",
       "                                              random_state=None, verbose=0,\n",
       "                                              warm_start=False))],\n",
       "                n_jobs=None, weights=None)"
      ]
     },
     "execution_count": 32,
     "metadata": {},
     "output_type": "execute_result"
    }
   ],
   "source": [
    "pipes = Pipeline([('knn', KNeighborsRegressor())])\n",
    "vote = VotingRegressor([('knn', pipes),\\\n",
    "         ('dt',DecisionTreeRegressor()),\\\n",
    "                     ('ada', AdaBoostRegressor()),\n",
    "          ('rf', RandomForestRegressor()),\n",
    "                    ('svr', SVR()),\n",
    "                    ('bag', \\\n",
    "                     BaggingRegressor(DecisionTreeRegressor()))])\n",
    "vote.fit(X_train, y_train)"
   ]
  },
  {
   "cell_type": "code",
   "execution_count": 31,
   "metadata": {
    "collapsed": true
   },
   "outputs": [
    {
     "ename": "TypeError",
     "evalue": "Cannot clone object '<class 'sklearn.tree._classes.DecisionTreeRegressor'>' (type <class 'abc.ABCMeta'>): it does not seem to be a scikit-learn estimator as it does not implement a 'get_params' methods.",
     "output_type": "error",
     "traceback": [
      "\u001b[1;31m---------------------------------------------------------------------------\u001b[0m",
      "\u001b[1;31mEmpty\u001b[0m                                     Traceback (most recent call last)",
      "\u001b[1;32m~\\anaconda3\\envs\\dsi\\lib\\site-packages\\joblib\\parallel.py\u001b[0m in \u001b[0;36mdispatch_one_batch\u001b[1;34m(self, iterator)\u001b[0m\n\u001b[0;32m    807\u001b[0m             \u001b[1;32mtry\u001b[0m\u001b[1;33m:\u001b[0m\u001b[1;33m\u001b[0m\u001b[1;33m\u001b[0m\u001b[0m\n\u001b[1;32m--> 808\u001b[1;33m                 \u001b[0mtasks\u001b[0m \u001b[1;33m=\u001b[0m \u001b[0mself\u001b[0m\u001b[1;33m.\u001b[0m\u001b[0m_ready_batches\u001b[0m\u001b[1;33m.\u001b[0m\u001b[0mget\u001b[0m\u001b[1;33m(\u001b[0m\u001b[0mblock\u001b[0m\u001b[1;33m=\u001b[0m\u001b[1;32mFalse\u001b[0m\u001b[1;33m)\u001b[0m\u001b[1;33m\u001b[0m\u001b[1;33m\u001b[0m\u001b[0m\n\u001b[0m\u001b[0;32m    809\u001b[0m             \u001b[1;32mexcept\u001b[0m \u001b[0mqueue\u001b[0m\u001b[1;33m.\u001b[0m\u001b[0mEmpty\u001b[0m\u001b[1;33m:\u001b[0m\u001b[1;33m\u001b[0m\u001b[1;33m\u001b[0m\u001b[0m\n",
      "\u001b[1;32m~\\anaconda3\\envs\\dsi\\lib\\queue.py\u001b[0m in \u001b[0;36mget\u001b[1;34m(self, block, timeout)\u001b[0m\n\u001b[0;32m    166\u001b[0m                 \u001b[1;32mif\u001b[0m \u001b[1;32mnot\u001b[0m \u001b[0mself\u001b[0m\u001b[1;33m.\u001b[0m\u001b[0m_qsize\u001b[0m\u001b[1;33m(\u001b[0m\u001b[1;33m)\u001b[0m\u001b[1;33m:\u001b[0m\u001b[1;33m\u001b[0m\u001b[1;33m\u001b[0m\u001b[0m\n\u001b[1;32m--> 167\u001b[1;33m                     \u001b[1;32mraise\u001b[0m \u001b[0mEmpty\u001b[0m\u001b[1;33m\u001b[0m\u001b[1;33m\u001b[0m\u001b[0m\n\u001b[0m\u001b[0;32m    168\u001b[0m             \u001b[1;32melif\u001b[0m \u001b[0mtimeout\u001b[0m \u001b[1;32mis\u001b[0m \u001b[1;32mNone\u001b[0m\u001b[1;33m:\u001b[0m\u001b[1;33m\u001b[0m\u001b[1;33m\u001b[0m\u001b[0m\n",
      "\u001b[1;31mEmpty\u001b[0m: ",
      "\nDuring handling of the above exception, another exception occurred:\n",
      "\u001b[1;31mTypeError\u001b[0m                                 Traceback (most recent call last)",
      "\u001b[1;32m<ipython-input-31-43e2caea178b>\u001b[0m in \u001b[0;36m<module>\u001b[1;34m\u001b[0m\n\u001b[0;32m      1\u001b[0m \u001b[0mpipes\u001b[0m \u001b[1;33m=\u001b[0m \u001b[0mPipeline\u001b[0m\u001b[1;33m(\u001b[0m\u001b[1;33m[\u001b[0m\u001b[1;33m(\u001b[0m\u001b[1;34m'knn'\u001b[0m\u001b[1;33m,\u001b[0m \u001b[0mKNeighborsRegressor\u001b[0m\u001b[1;33m)\u001b[0m\u001b[1;33m]\u001b[0m\u001b[1;33m)\u001b[0m\u001b[1;33m\u001b[0m\u001b[1;33m\u001b[0m\u001b[0m\n\u001b[0;32m      2\u001b[0m \u001b[0mvote\u001b[0m \u001b[1;33m=\u001b[0m \u001b[0mVotingRegressor\u001b[0m\u001b[1;33m(\u001b[0m\u001b[1;33m[\u001b[0m\u001b[1;33m(\u001b[0m\u001b[1;34m'knn'\u001b[0m\u001b[1;33m,\u001b[0m \u001b[0mpipes\u001b[0m\u001b[1;33m)\u001b[0m\u001b[1;33m,\u001b[0m\u001b[1;33m(\u001b[0m\u001b[1;34m'dt'\u001b[0m\u001b[1;33m,\u001b[0m\u001b[0mDecisionTreeRegressor\u001b[0m\u001b[1;33m)\u001b[0m\u001b[1;33m,\u001b[0m\u001b[1;33m(\u001b[0m\u001b[1;34m'ada'\u001b[0m\u001b[1;33m,\u001b[0m \u001b[0mAdaBoostRegressor\u001b[0m\u001b[1;33m)\u001b[0m\u001b[1;33m,\u001b[0m\u001b[1;33m(\u001b[0m\u001b[1;34m'rf'\u001b[0m\u001b[1;33m,\u001b[0m \u001b[0mRandomForestRegressor\u001b[0m\u001b[1;33m)\u001b[0m\u001b[1;33m,\u001b[0m\u001b[1;33m(\u001b[0m\u001b[1;34m'svr'\u001b[0m\u001b[1;33m,\u001b[0m \u001b[0mSVR\u001b[0m\u001b[1;33m)\u001b[0m\u001b[1;33m,\u001b[0m\u001b[1;33m(\u001b[0m\u001b[1;34m'bag'\u001b[0m\u001b[1;33m,\u001b[0m\u001b[0mBaggingRegressor\u001b[0m\u001b[1;33m(\u001b[0m\u001b[0mDecisionTreeRegressor\u001b[0m\u001b[1;33m)\u001b[0m\u001b[1;33m)\u001b[0m\u001b[1;33m]\u001b[0m\u001b[1;33m,\u001b[0m\u001b[0mn_jobs\u001b[0m\u001b[1;33m=\u001b[0m\u001b[1;33m-\u001b[0m\u001b[1;36m1\u001b[0m\u001b[1;33m)\u001b[0m\u001b[1;33m\u001b[0m\u001b[1;33m\u001b[0m\u001b[0m\n\u001b[1;32m----> 3\u001b[1;33m \u001b[0mvote\u001b[0m\u001b[1;33m.\u001b[0m\u001b[0mfit\u001b[0m\u001b[1;33m(\u001b[0m\u001b[0mX_train\u001b[0m\u001b[1;33m,\u001b[0m\u001b[0my_train\u001b[0m\u001b[1;33m)\u001b[0m\u001b[1;33m\u001b[0m\u001b[1;33m\u001b[0m\u001b[0m\n\u001b[0m",
      "\u001b[1;32m~\\anaconda3\\envs\\dsi\\lib\\site-packages\\sklearn\\ensemble\\_voting.py\u001b[0m in \u001b[0;36mfit\u001b[1;34m(self, X, y, sample_weight)\u001b[0m\n\u001b[0;32m    405\u001b[0m         \"\"\"\n\u001b[0;32m    406\u001b[0m         \u001b[0my\u001b[0m \u001b[1;33m=\u001b[0m \u001b[0mcolumn_or_1d\u001b[0m\u001b[1;33m(\u001b[0m\u001b[0my\u001b[0m\u001b[1;33m,\u001b[0m \u001b[0mwarn\u001b[0m\u001b[1;33m=\u001b[0m\u001b[1;32mTrue\u001b[0m\u001b[1;33m)\u001b[0m\u001b[1;33m\u001b[0m\u001b[1;33m\u001b[0m\u001b[0m\n\u001b[1;32m--> 407\u001b[1;33m         \u001b[1;32mreturn\u001b[0m \u001b[0msuper\u001b[0m\u001b[1;33m(\u001b[0m\u001b[1;33m)\u001b[0m\u001b[1;33m.\u001b[0m\u001b[0mfit\u001b[0m\u001b[1;33m(\u001b[0m\u001b[0mX\u001b[0m\u001b[1;33m,\u001b[0m \u001b[0my\u001b[0m\u001b[1;33m,\u001b[0m \u001b[0msample_weight\u001b[0m\u001b[1;33m)\u001b[0m\u001b[1;33m\u001b[0m\u001b[1;33m\u001b[0m\u001b[0m\n\u001b[0m\u001b[0;32m    408\u001b[0m \u001b[1;33m\u001b[0m\u001b[0m\n\u001b[0;32m    409\u001b[0m     \u001b[1;32mdef\u001b[0m \u001b[0mpredict\u001b[0m\u001b[1;33m(\u001b[0m\u001b[0mself\u001b[0m\u001b[1;33m,\u001b[0m \u001b[0mX\u001b[0m\u001b[1;33m)\u001b[0m\u001b[1;33m:\u001b[0m\u001b[1;33m\u001b[0m\u001b[1;33m\u001b[0m\u001b[0m\n",
      "\u001b[1;32m~\\anaconda3\\envs\\dsi\\lib\\site-packages\\sklearn\\ensemble\\_voting.py\u001b[0m in \u001b[0;36mfit\u001b[1;34m(self, X, y, sample_weight)\u001b[0m\n\u001b[0;32m     66\u001b[0m                 delayed(_parallel_fit_estimator)(clone(clf), X, y,\n\u001b[0;32m     67\u001b[0m                                                  sample_weight=sample_weight)\n\u001b[1;32m---> 68\u001b[1;33m                 \u001b[1;32mfor\u001b[0m \u001b[0mclf\u001b[0m \u001b[1;32min\u001b[0m \u001b[0mclfs\u001b[0m \u001b[1;32mif\u001b[0m \u001b[0mclf\u001b[0m \u001b[1;32mnot\u001b[0m \u001b[1;32min\u001b[0m \u001b[1;33m(\u001b[0m\u001b[1;32mNone\u001b[0m\u001b[1;33m,\u001b[0m \u001b[1;34m'drop'\u001b[0m\u001b[1;33m)\u001b[0m\u001b[1;33m\u001b[0m\u001b[1;33m\u001b[0m\u001b[0m\n\u001b[0m\u001b[0;32m     69\u001b[0m             )\n\u001b[0;32m     70\u001b[0m \u001b[1;33m\u001b[0m\u001b[0m\n",
      "\u001b[1;32m~\\anaconda3\\envs\\dsi\\lib\\site-packages\\joblib\\parallel.py\u001b[0m in \u001b[0;36m__call__\u001b[1;34m(self, iterable)\u001b[0m\n\u001b[0;32m   1027\u001b[0m             \u001b[1;31m# remaining jobs.\u001b[0m\u001b[1;33m\u001b[0m\u001b[1;33m\u001b[0m\u001b[1;33m\u001b[0m\u001b[0m\n\u001b[0;32m   1028\u001b[0m             \u001b[0mself\u001b[0m\u001b[1;33m.\u001b[0m\u001b[0m_iterating\u001b[0m \u001b[1;33m=\u001b[0m \u001b[1;32mFalse\u001b[0m\u001b[1;33m\u001b[0m\u001b[1;33m\u001b[0m\u001b[0m\n\u001b[1;32m-> 1029\u001b[1;33m             \u001b[1;32mif\u001b[0m \u001b[0mself\u001b[0m\u001b[1;33m.\u001b[0m\u001b[0mdispatch_one_batch\u001b[0m\u001b[1;33m(\u001b[0m\u001b[0miterator\u001b[0m\u001b[1;33m)\u001b[0m\u001b[1;33m:\u001b[0m\u001b[1;33m\u001b[0m\u001b[1;33m\u001b[0m\u001b[0m\n\u001b[0m\u001b[0;32m   1030\u001b[0m                 \u001b[0mself\u001b[0m\u001b[1;33m.\u001b[0m\u001b[0m_iterating\u001b[0m \u001b[1;33m=\u001b[0m \u001b[0mself\u001b[0m\u001b[1;33m.\u001b[0m\u001b[0m_original_iterator\u001b[0m \u001b[1;32mis\u001b[0m \u001b[1;32mnot\u001b[0m \u001b[1;32mNone\u001b[0m\u001b[1;33m\u001b[0m\u001b[1;33m\u001b[0m\u001b[0m\n\u001b[0;32m   1031\u001b[0m \u001b[1;33m\u001b[0m\u001b[0m\n",
      "\u001b[1;32m~\\anaconda3\\envs\\dsi\\lib\\site-packages\\joblib\\parallel.py\u001b[0m in \u001b[0;36mdispatch_one_batch\u001b[1;34m(self, iterator)\u001b[0m\n\u001b[0;32m    817\u001b[0m                 \u001b[0mbig_batch_size\u001b[0m \u001b[1;33m=\u001b[0m \u001b[0mbatch_size\u001b[0m \u001b[1;33m*\u001b[0m \u001b[0mn_jobs\u001b[0m\u001b[1;33m\u001b[0m\u001b[1;33m\u001b[0m\u001b[0m\n\u001b[0;32m    818\u001b[0m \u001b[1;33m\u001b[0m\u001b[0m\n\u001b[1;32m--> 819\u001b[1;33m                 \u001b[0mislice\u001b[0m \u001b[1;33m=\u001b[0m \u001b[0mlist\u001b[0m\u001b[1;33m(\u001b[0m\u001b[0mitertools\u001b[0m\u001b[1;33m.\u001b[0m\u001b[0mislice\u001b[0m\u001b[1;33m(\u001b[0m\u001b[0miterator\u001b[0m\u001b[1;33m,\u001b[0m \u001b[0mbig_batch_size\u001b[0m\u001b[1;33m)\u001b[0m\u001b[1;33m)\u001b[0m\u001b[1;33m\u001b[0m\u001b[1;33m\u001b[0m\u001b[0m\n\u001b[0m\u001b[0;32m    820\u001b[0m                 \u001b[1;32mif\u001b[0m \u001b[0mlen\u001b[0m\u001b[1;33m(\u001b[0m\u001b[0mislice\u001b[0m\u001b[1;33m)\u001b[0m \u001b[1;33m==\u001b[0m \u001b[1;36m0\u001b[0m\u001b[1;33m:\u001b[0m\u001b[1;33m\u001b[0m\u001b[1;33m\u001b[0m\u001b[0m\n\u001b[0;32m    821\u001b[0m                     \u001b[1;32mreturn\u001b[0m \u001b[1;32mFalse\u001b[0m\u001b[1;33m\u001b[0m\u001b[1;33m\u001b[0m\u001b[0m\n",
      "\u001b[1;32m~\\anaconda3\\envs\\dsi\\lib\\site-packages\\sklearn\\ensemble\\_voting.py\u001b[0m in \u001b[0;36m<genexpr>\u001b[1;34m(.0)\u001b[0m\n\u001b[0;32m     66\u001b[0m                 delayed(_parallel_fit_estimator)(clone(clf), X, y,\n\u001b[0;32m     67\u001b[0m                                                  sample_weight=sample_weight)\n\u001b[1;32m---> 68\u001b[1;33m                 \u001b[1;32mfor\u001b[0m \u001b[0mclf\u001b[0m \u001b[1;32min\u001b[0m \u001b[0mclfs\u001b[0m \u001b[1;32mif\u001b[0m \u001b[0mclf\u001b[0m \u001b[1;32mnot\u001b[0m \u001b[1;32min\u001b[0m \u001b[1;33m(\u001b[0m\u001b[1;32mNone\u001b[0m\u001b[1;33m,\u001b[0m \u001b[1;34m'drop'\u001b[0m\u001b[1;33m)\u001b[0m\u001b[1;33m\u001b[0m\u001b[1;33m\u001b[0m\u001b[0m\n\u001b[0m\u001b[0;32m     69\u001b[0m             )\n\u001b[0;32m     70\u001b[0m \u001b[1;33m\u001b[0m\u001b[0m\n",
      "\u001b[1;32m~\\anaconda3\\envs\\dsi\\lib\\site-packages\\sklearn\\base.py\u001b[0m in \u001b[0;36mclone\u001b[1;34m(estimator, safe)\u001b[0m\n\u001b[0;32m     65\u001b[0m                             \u001b[1;34m\"it does not seem to be a scikit-learn estimator \"\u001b[0m\u001b[1;33m\u001b[0m\u001b[1;33m\u001b[0m\u001b[0m\n\u001b[0;32m     66\u001b[0m                             \u001b[1;34m\"as it does not implement a 'get_params' methods.\"\u001b[0m\u001b[1;33m\u001b[0m\u001b[1;33m\u001b[0m\u001b[0m\n\u001b[1;32m---> 67\u001b[1;33m                             % (repr(estimator), type(estimator)))\n\u001b[0m\u001b[0;32m     68\u001b[0m     \u001b[0mklass\u001b[0m \u001b[1;33m=\u001b[0m \u001b[0mestimator\u001b[0m\u001b[1;33m.\u001b[0m\u001b[0m__class__\u001b[0m\u001b[1;33m\u001b[0m\u001b[1;33m\u001b[0m\u001b[0m\n\u001b[0;32m     69\u001b[0m     \u001b[0mnew_object_params\u001b[0m \u001b[1;33m=\u001b[0m \u001b[0mestimator\u001b[0m\u001b[1;33m.\u001b[0m\u001b[0mget_params\u001b[0m\u001b[1;33m(\u001b[0m\u001b[0mdeep\u001b[0m\u001b[1;33m=\u001b[0m\u001b[1;32mFalse\u001b[0m\u001b[1;33m)\u001b[0m\u001b[1;33m\u001b[0m\u001b[1;33m\u001b[0m\u001b[0m\n",
      "\u001b[1;31mTypeError\u001b[0m: Cannot clone object '<class 'sklearn.tree._classes.DecisionTreeRegressor'>' (type <class 'abc.ABCMeta'>): it does not seem to be a scikit-learn estimator as it does not implement a 'get_params' methods."
     ]
    }
   ],
   "source": [
    "pipes = Pipeline([('knn', KNeighborsRegressor)])\n",
    "vote = VotingRegressor([('knn', pipes),('dt',DecisionTreeRegressor),('ada', AdaBoostRegressor),('rf', RandomForestRegressor),('svr', SVR),('bag',BaggingRegressor(DecisionTreeRegressor))],n_jobs=-1)\n",
    "vote.fit(X_train,y_train)"
   ]
  },
  {
   "cell_type": "code",
   "execution_count": 33,
   "metadata": {},
   "outputs": [
    {
     "data": {
      "text/plain": [
       "0.8551161847152613"
      ]
     },
     "execution_count": 33,
     "metadata": {},
     "output_type": "execute_result"
    }
   ],
   "source": [
    "vote.score(X_train, y_train)"
   ]
  },
  {
   "cell_type": "code",
   "execution_count": 37,
   "metadata": {},
   "outputs": [
    {
     "data": {
      "text/plain": [
       "0.5734973738251767"
      ]
     },
     "execution_count": 37,
     "metadata": {},
     "output_type": "execute_result"
    }
   ],
   "source": [
    "vote.score(X_test,y_test)"
   ]
  }
 ],
 "metadata": {
  "kernelspec": {
   "display_name": "Python 3",
   "language": "python",
   "name": "python3"
  },
  "language_info": {
   "codemirror_mode": {
    "name": "ipython",
    "version": 3
   },
   "file_extension": ".py",
   "mimetype": "text/x-python",
   "name": "python",
   "nbconvert_exporter": "python",
   "pygments_lexer": "ipython3",
   "version": "3.7.7"
  }
 },
 "nbformat": 4,
 "nbformat_minor": 4
}
