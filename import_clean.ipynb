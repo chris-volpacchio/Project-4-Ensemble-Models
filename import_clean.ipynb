{
 "cells": [
  {
   "cell_type": "code",
   "execution_count": 17,
   "metadata": {
    "_cell_guid": "b1076dfc-b9ad-4769-8c92-a6c4dae69d19",
    "_uuid": "8f2839f25d086af736a60e9eeb907d3b93b6e0e5"
   },
   "outputs": [],
   "source": [
    "# This Python 3 environment comes with many helpful analytics libraries installed\n",
    "# It is defined by the kaggle/python Docker image: https://github.com/kaggle/docker-python\n",
    "# For example, here's several helpful packages to load\n",
    "\n",
    "import numpy as np # linear algebra\n",
    "import pandas as pd # data processing, CSV file I/O (e.g. pd.read_csv)\n",
    "import ast\n",
    "\n",
    "# Input data files are available in the read-only \"../input/\" directory\n",
    "# For example, running this (by clicking run or pressing Shift+Enter) will list all files under the input directory\n",
    "\n",
    "# You can write up to 5GB to the current directory (/kaggle/working/) that gets preserved as output when you create a version using \"Save & Run All\" \n",
    "# You can also write temporary files to /kaggle/temp/, but they won't be saved outside of the current session\n",
    "\n",
    "train_filepath = \"train.csv\"\n",
    "test_filepath = \"test.csv\"\n",
    "dfraw = pd.read_csv(train_filepath)\n",
    "testraw = pd.read_csv(test_filepath)\n",
    "\n",
    "def printfull(dfp):\n",
    "    pd.set_option('display.max_rows', len(dfp))\n",
    "    display(dfp)\n",
    "    pd.reset_option('display.max_rows')\n",
    "    \n",
    "def df_summary(df):\n",
    "    dtypes_frame = pd.DataFrame(df.dtypes.values.tolist())\n",
    "    dtypes_frame[0] = dtypes_frame[0].astype(str)\n",
    "    dtype_counts = dtypes_frame[0].value_counts(dropna=False) \n",
    "    list_vars = list(df.columns)\n",
    "    list_types = [str(df[x].dtypes) for x in list_vars]\n",
    "    list_uniques = [df[x].value_counts(dropna=False).count() for x in list_vars]\n",
    "    list_nulls = df.isnull().sum()\n",
    "    d = {'col': list_vars, 'type': list_types, 'unique': list_uniques, 'nulls': list_nulls}\n",
    "    df_summ = pd.DataFrame(data=d)\n",
    "    return df_summ.set_index('col').sort_index()\n",
    "\n",
    "def create_crew_num(bodf,column_name:str):\n",
    "    new_col = column_name+'_num'\n",
    "    crew = bodf[[column_name]].dropna()\n",
    "    list_crew = [pd.DataFrame(ast.literal_eval(crew.iloc[i][0])) for i in range(crew.shape[0])]\n",
    "    crew_number = [crew.shape[0] for crew in list_crew]\n",
    "    bodf[new_col] = np.nan\n",
    "    bodf.loc[bodf[column_name].notnull(),new_col] = crew_number\n",
    "    \n",
    "def count_uniques_listdict(df,col,iden='id'):\n",
    "    list_all_ids = []\n",
    "    keywords_scrubbing = df[col].copy()\n",
    "    keywords_scrubbing.dropna(inplace=True)\n",
    "    keywords_scrubbing.reset_index(inplace=True,drop=True)\n",
    "    for i in range(len(keywords_scrubbing)):\n",
    "        ids_entry = ast.literal_eval(keywords_scrubbing[i])\n",
    "        for k in ids_entry:\n",
    "            list_all_ids.append(k[iden])\n",
    "    len(list(set(list_all_ids)))\n",
    "    \n",
    "# function that sets a 1 for each genre column that each movie belongs to. Returns indices where there are errors.\n",
    "def dummify_genre(bodf, genres_list):\n",
    "    problem_indices = []\n",
    "    for i in range(bodf.shape[0]):\n",
    "        try:\n",
    "            genre_count = len(ast.literal_eval(genres_df[i]))\n",
    "        except:\n",
    "            problem_indices.append(i)\n",
    "        try:\n",
    "            genres = [ast.literal_eval(genres_df[i])[j]['name'] for j in range(genre_count)]\n",
    "            for genre in genres:\n",
    "                if genre in genres_list:\n",
    "                    bodf.loc[i, genre] = 1\n",
    "        except:\n",
    "            pass\n",
    "    return problem_indices"
   ]
  },
  {
   "cell_type": "code",
   "execution_count": 18,
   "metadata": {},
   "outputs": [],
   "source": [
    "df = dfraw.copy()\n",
    "testf = testraw.copy()\n",
    "testf.set_index('id')\n",
    "df.set_index('id')\n",
    "dfsumm = df_summary(df)"
   ]
  },
  {
   "cell_type": "code",
   "execution_count": 19,
   "metadata": {},
   "outputs": [
    {
     "data": {
      "text/plain": [
       "Index(['id', 'belongs_to_collection', 'budget', 'genres', 'homepage',\n",
       "       'imdb_id', 'original_language', 'original_title', 'overview',\n",
       "       'popularity', 'poster_path', 'production_companies',\n",
       "       'production_countries', 'release_date', 'runtime', 'spoken_languages',\n",
       "       'status', 'tagline', 'title', 'Keywords', 'cast', 'crew', 'revenue'],\n",
       "      dtype='object')"
      ]
     },
     "execution_count": 19,
     "metadata": {},
     "output_type": "execute_result"
    }
   ],
   "source": [
    "df.columns"
   ]
  },
  {
   "cell_type": "code",
   "execution_count": 20,
   "metadata": {},
   "outputs": [],
   "source": [
    "#procedural edits (to reproduce our steps)\n",
    "create_crew_num(df,'crew')\n",
    "create_crew_num(df,'cast')\n",
    "create_crew_num(df,'spoken_languages')\n",
    "# create_crew_num(testf,'crew')\n",
    "# create_crew_num(testf,'cast')\n",
    "\n",
    "df['is_en'] = (df['original_language'] == 'en').astype(int)\n",
    "\n",
    "# fix the 0 values in runtime\n",
    "df['runtime'].mask(df['runtime']==0, df['runtime'].median(),inplace=True)\n",
    "\n",
    "# removes absurd popularity values\n",
    "df['popularity'] = df[df['popularity'] <= 30]['popularity']\n",
    "\n",
    "#gets all the unique genres in our data\n",
    "genres_df = df['genres'].dropna()\n",
    "#list of genres ONLY in the training set\n",
    "genres_list = [] \n",
    "for i in range(df.shape[0]):\n",
    "    try:\n",
    "        genre_count = len(ast.literal_eval(genres_df[i]))\n",
    "        genres_list += [ast.literal_eval(genres_df[i])[j]['name'] for j in range(genre_count)]\n",
    "        genres_list = list(set(genres))\n",
    "    except:\n",
    "        pass\n",
    "#creates new columsn for our genres in the dataframe\n",
    "for genre in genres_list:\n",
    "    df[genre] = 0\n",
    "    testf[genre] = 0\n",
    "dummify_genre(testf, genres_list);\n",
    "dummify_genre(df, genres_list);\n",
    "\n",
    "# impute 0 budget with mean\n",
    "mean_budget = df[df['budget'] > 0]['budget'].mean()\n",
    "df['budget'] = df['budget'].map(lambda x: mean_budget if x == 0 else x)"
   ]
  },
  {
   "cell_type": "code",
   "execution_count": 21,
   "metadata": {},
   "outputs": [],
   "source": [
    "df.to_csv('df_clean.csv')"
   ]
  },
  {
   "cell_type": "code",
   "execution_count": 22,
   "metadata": {},
   "outputs": [],
   "source": [
    "#procedural edits (to reproduce our steps)\n",
    "create_crew_num(testf,'crew')\n",
    "create_crew_num(testf,'cast')\n",
    "create_crew_num(testf,'spoken_languages')\n",
    "# create_crew_num(testf,'crew')\n",
    "# create_crew_num(testf,'cast')\n",
    "\n",
    "testf['is_en'] = (testf['original_language'] == 'en').astype(int)\n",
    "\n",
    "# fix the 0 values in runtime\n",
    "testf['runtime'].mask(testf['runtime']==0, testf['runtime'].median(),inplace=True)\n",
    "\n",
    "# removes absurd popularity values\n",
    "df['popularity'] = df[df['popularity'] <= 30]['popularity']\n",
    "\n",
    "#gets all the unique genres in our data\n",
    "genres_df = testf['genres'].dropna()\n",
    "#list of genres ONLY in the training set\n",
    "genres_list = [] \n",
    "for i in range(testf.shape[0]):\n",
    "    try:\n",
    "        genre_count = len(ast.literal_eval(genres_df[i]))\n",
    "        genres_list += [ast.literal_eval(genres_df[i])[j]['name'] for j in range(genre_count)]\n",
    "        genres_list = list(set(genres))\n",
    "    except:\n",
    "        pass\n",
    "#creates new columsn for our genres in the dataframe\n",
    "for genre in genres_list:\n",
    "    df[genre] = 0\n",
    "    testf[genre] = 0\n",
    "dummify_genre(testf, genres_list);\n",
    "dummify_genre(df, genres_list);\n",
    "\n",
    "# impute 0 budget with mean\n",
    "mean_budget = testf[testf['budget'] > 0]['budget'].mean()\n",
    "testf['budget'] = testf['budget'].map(lambda x: mean_budget if x == 0 else x)"
   ]
  },
  {
   "cell_type": "code",
   "execution_count": 23,
   "metadata": {},
   "outputs": [],
   "source": [
    "testf.to_csv('testf_clean.csv')"
   ]
  },
  {
   "cell_type": "code",
   "execution_count": 24,
   "metadata": {},
   "outputs": [],
   "source": [
    "# # Director candidate feature\n",
    "# droprows = df[df['crew'].isnull()].index\n",
    "# df.drop(droprows, inplace=True)\n",
    "# crew = df[['crew']]\n",
    "# list_crew = [pd.DataFrame(ast.literal_eval(crew.iloc[i][0])) for i in range(crew.shape[0])]\n",
    "# directors = []\n",
    "# for i in range(len(list_crew)):\n",
    "#     director = list_crew[i][list_crew[i]['job']=='Director']['name']\n",
    "#     directors.append(director)\n",
    "# df['Director'] = directors"
   ]
  },
  {
   "cell_type": "code",
   "execution_count": 25,
   "metadata": {},
   "outputs": [
    {
     "ename": "SyntaxError",
     "evalue": "EOF while scanning triple-quoted string literal (<ipython-input-25-1fa266424474>, line 41)",
     "output_type": "error",
     "traceback": [
      "\u001b[1;36m  File \u001b[1;32m\"<ipython-input-25-1fa266424474>\"\u001b[1;36m, line \u001b[1;32m41\u001b[0m\n\u001b[1;33m    \u001b[0m\n\u001b[1;37m    ^\u001b[0m\n\u001b[1;31mSyntaxError\u001b[0m\u001b[1;31m:\u001b[0m EOF while scanning triple-quoted string literal\n"
     ]
    }
   ],
   "source": [
    "\n",
    "# features = ['crew_num','cast_num','is_en','original_language','budget','popularity','spoken_languages']\n",
    "# \n",
    "# \n",
    "    \n",
    "'''\n",
    "This is our \"modeling\" dataframe, not like we're dropping it during import\n",
    "\n",
    "target: revenue\n",
    "\n",
    "# TODO\n",
    "# Modeling: is_en, budget, cast(cast_num), crew(crew_num), original_language(english/not english), popularity, runtime(analyze length > dummy variables), \n",
    "#           spoken_languages(map to a count)\n",
    "# Maybe Modeling: Director (type of variable tbd), production_companies (tbd) production_countries (type/form tbd) original_language(# of other languages besides english)\n",
    "\n",
    "\n",
    "# Matt \n",
    " - Budget has a bunch of zero's and low values\n",
    "\n",
    "# Chris \n",
    "\n",
    "\n",
    "# Brendan - \n",
    "\n",
    "# Drop: Keywords homepage id imdb_id original_title overview poster_path release_date status title\n",
    "# Drop (used elsewhere): cast crew\n",
    "# Maybe drop: genres, belongs_to_collection\n",
    "\n",
    "\n",
    "dfsumm\n",
    "\n",
    "# This is our \"modeling\" dataframe, not like we're dropping it during import\n",
    "\n",
    "# target: revenue\n",
    "\n",
    "# Modeling: budget, cast(cast_num), crew(crew_num), original_language(english/not english), popularity runtime(analyze length > dummy variables) spoken_languages(map to a count)\n",
    "# Maybe Modeling: Director production_companies production_countries original_language(other languages besides english)\n",
    "\n",
    "# Drop: Keywords homepage id imdb_id original_title overview poster_path release_date status title\n",
    "# Drop (used elsewhere): cast crew\n",
    "# Maybe drop: genres, belongs_to_collection\n",
    "\n"
   ]
  },
  {
   "cell_type": "code",
   "execution_count": null,
   "metadata": {},
   "outputs": [],
   "source": []
  }
 ],
 "metadata": {
  "kernelspec": {
   "display_name": "Python 3",
   "language": "python",
   "name": "python3"
  },
  "language_info": {
   "codemirror_mode": {
    "name": "ipython",
    "version": 3
   },
   "file_extension": ".py",
   "mimetype": "text/x-python",
   "name": "python",
   "nbconvert_exporter": "python",
   "pygments_lexer": "ipython3",
   "version": "3.7.7"
  }
 },
 "nbformat": 4,
 "nbformat_minor": 4
}
