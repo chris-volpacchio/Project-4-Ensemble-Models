{
 "cells": [
  {
   "cell_type": "code",
   "execution_count": 10,
   "metadata": {
    "_cell_guid": "b1076dfc-b9ad-4769-8c92-a6c4dae69d19",
    "_uuid": "8f2839f25d086af736a60e9eeb907d3b93b6e0e5"
   },
   "outputs": [],
   "source": [
    "# This Python 3 environment comes with many helpful analytics libraries installed\n",
    "# It is defined by the kaggle/python Docker image: https://github.com/kaggle/docker-python\n",
    "# For example, here's several helpful packages to load\n",
    "\n",
    "import numpy as np # linear algebra\n",
    "import pandas as pd # data processing, CSV file I/O (e.g. pd.read_csv)\n",
    "import matplotlib.pyplot as plt\n",
    "import seaborn as sns\n",
    "import ast \n",
    "from sklearn.linear_model import LinearRegression, Lasso\n",
    "from sklearn.model_selection import cross_val_score, train_test_split\n",
    "from sklearn.preprocessing import PolynomialFeatures, StandardScaler\n",
    "\n",
    "from sklearn.neighbors import KNeighborsRegressor\n",
    "from sklearn.tree import DecisionTreeRegressor\n",
    "from sklearn.ensemble import AdaBoostRegressor, \\\n",
    "BaggingRegressor, RandomForestRegressor, _bagging\n",
    "from sklearn.svm import SVR\n",
    "from sklearn.pipeline import Pipeline\n",
    "from sklearn.ensemble import VotingRegressor\n",
    "# Input data files are available in the read-only \"../input/\" directory\n",
    "# For example, running this (by clicking run or pressing Shift+Enter) will list all files under the input directory\n",
    "\n",
    "import os\n",
    "\n",
    "# You can write up to 5GB to the current directory (/kaggle/working/) that gets preserved as output when you create a version using \"Save & Run All\" \n",
    "# You can also write temporary files to /kaggle/temp/, but they won't be saved outside of the current session\n",
    "\n"
   ]
  },
  {
   "cell_type": "code",
   "execution_count": 22,
   "metadata": {
    "_cell_guid": "79c7e3d0-c299-4dcb-8224-4455121ee9b0",
    "_uuid": "d629ff2d2480ee46fbb7e2d37f6b5fab8052498a"
   },
   "outputs": [],
   "source": [
    "df = pd.read_csv('df_clean.csv',index_col=0)\n",
    "testdf = pd.read_csv('testf_clean.csv',index_col=0)"
   ]
  },
  {
   "cell_type": "code",
   "execution_count": 23,
   "metadata": {},
   "outputs": [],
   "source": [
    "pd.set_option('display.max_colwidth', 500)"
   ]
  },
  {
   "cell_type": "code",
   "execution_count": 24,
   "metadata": {},
   "outputs": [
    {
     "data": {
      "text/plain": [
       "Index(['id', 'belongs_to_collection', 'budget', 'genres', 'homepage',\n",
       "       'imdb_id', 'original_language', 'original_title', 'overview',\n",
       "       'popularity', 'poster_path', 'production_companies',\n",
       "       'production_countries', 'release_date', 'runtime', 'spoken_languages',\n",
       "       'status', 'tagline', 'title', 'Keywords', 'cast', 'crew', 'revenue',\n",
       "       'crew_num', 'cast_num', 'spoken_languages_num', 'is_en', 'Comedy',\n",
       "       'Drama', 'Family', 'Romance', 'Thriller', 'Action', 'Animation',\n",
       "       'Adventure', 'Horror', 'Documentary', 'Music', 'Crime',\n",
       "       'Science Fiction', 'Mystery', 'Foreign', 'Fantasy', 'War', 'Western',\n",
       "       'History', 'TV Movie'],\n",
       "      dtype='object')"
      ]
     },
     "execution_count": 24,
     "metadata": {},
     "output_type": "execute_result"
    }
   ],
   "source": [
    "df.columns"
   ]
  },
  {
   "cell_type": "code",
   "execution_count": 32,
   "metadata": {},
   "outputs": [],
   "source": [
    "df['runtime'].mask(df['runtime']==0, df['runtime'].median(),inplace=True)\n",
    "testdf['runtime'].mask(testdf['runtime']==0, testdf['runtime'].median(),inplace=True)\n",
    "df['runtime'].fillna(df['runtime'].median(),inplace=True)\n",
    "testdf['runtime'].fillna(testdf['runtime'].median(),inplace=True)\n",
    "df['popularity'].fillna(df['popularity'].mean(), inplace = True)\n",
    "testdf['popularity'].fillna(df['popularity'].mean(), inplace = True)\n",
    "\n",
    "mean_crew = df['crew_num'].mean()\n",
    "df['crew_num'].fillna(mean_crew, inplace=True)\n",
    "mean_cast = df['cast_num'].mean()\n",
    "df['cast_num'].fillna(mean_cast, inplace=True)\n",
    "\n",
    "mean_crew = testdf['crew_num'].mean()\n",
    "testdf['crew_num'].fillna(mean_crew, inplace=True)\n",
    "mean_cast = testdf['cast_num'].mean()\n",
    "testdf['cast_num'].fillna(mean_cast, inplace=True)\n",
    "\n",
    "df['spoken_languages_num'].fillna(df['spoken_languages_num'].median(),inplace=True)\n",
    "testdf['spoken_languages_num'].fillna(testdf['spoken_languages_num'].median(),inplace=True)\n",
    "\n"
   ]
  },
  {
   "cell_type": "code",
   "execution_count": 41,
   "metadata": {},
   "outputs": [],
   "source": [
    "features = ['budget','popularity', 'runtime','Comedy',\n",
    "       'Drama', 'Family', 'Romance', 'Thriller', 'Action', 'Animation',\n",
    "       'Adventure', 'Horror', 'Documentary', 'Music', 'Crime',\n",
    "       'Science Fiction', 'Mystery', 'Foreign', 'Fantasy', 'War', 'Western',\n",
    "       'History', 'TV Movie', 'crew_num', 'cast_num', 'spoken_languages_num','is_en']\n",
    "X = df[features]\n",
    "y = df['revenue']\n",
    "featuresm = ['revenue','budget','popularity', 'runtime','Comedy',\n",
    "       'Drama', 'Family', 'Romance', 'Thriller', 'Action', 'Animation',\n",
    "       'Adventure', 'Horror', 'Documentary', 'Music', 'Crime',\n",
    "       'Science Fiction', 'Mystery', 'Foreign', 'Fantasy', 'War', 'Western',\n",
    "       'History', 'TV Movie', 'crew_num', 'cast_num', 'spoken_languages_num','is_en']\n",
    "xy = df[featuresm]"
   ]
  },
  {
   "cell_type": "code",
   "execution_count": 42,
   "metadata": {},
   "outputs": [
    {
     "name": "stdout",
     "output_type": "stream",
     "text": [
      "<class 'pandas.core.frame.DataFrame'>\n",
      "Int64Index: 3000 entries, 0 to 2999\n",
      "Data columns (total 27 columns):\n",
      " #   Column                Non-Null Count  Dtype  \n",
      "---  ------                --------------  -----  \n",
      " 0   budget                3000 non-null   float64\n",
      " 1   popularity            3000 non-null   float64\n",
      " 2   runtime               3000 non-null   float64\n",
      " 3   Comedy                3000 non-null   int64  \n",
      " 4   Drama                 3000 non-null   int64  \n",
      " 5   Family                3000 non-null   int64  \n",
      " 6   Romance               3000 non-null   int64  \n",
      " 7   Thriller              3000 non-null   int64  \n",
      " 8   Action                3000 non-null   int64  \n",
      " 9   Animation             3000 non-null   int64  \n",
      " 10  Adventure             3000 non-null   int64  \n",
      " 11  Horror                3000 non-null   int64  \n",
      " 12  Documentary           3000 non-null   int64  \n",
      " 13  Music                 3000 non-null   int64  \n",
      " 14  Crime                 3000 non-null   int64  \n",
      " 15  Science Fiction       3000 non-null   int64  \n",
      " 16  Mystery               3000 non-null   int64  \n",
      " 17  Foreign               3000 non-null   int64  \n",
      " 18  Fantasy               3000 non-null   int64  \n",
      " 19  War                   3000 non-null   int64  \n",
      " 20  Western               3000 non-null   int64  \n",
      " 21  History               3000 non-null   int64  \n",
      " 22  TV Movie              3000 non-null   int64  \n",
      " 23  crew_num              3000 non-null   float64\n",
      " 24  cast_num              3000 non-null   float64\n",
      " 25  spoken_languages_num  3000 non-null   float64\n",
      " 26  is_en                 3000 non-null   int64  \n",
      "dtypes: float64(6), int64(21)\n",
      "memory usage: 656.2 KB\n"
     ]
    }
   ],
   "source": [
    "X.info()"
   ]
  },
  {
   "cell_type": "code",
   "execution_count": 43,
   "metadata": {},
   "outputs": [
    {
     "data": {
      "image/png": "[encoded data removed]",
      "text/plain": [
       "<Figure size 1800x1800 with 2 Axes>"
      ]
     },
     "metadata": {
      "needs_background": "light"
     },
     "output_type": "display_data"
    }
   ],
   "source": [
    "plt.figure(figsize=(25,25))\n",
    "sns.heatmap(xy.corr()[['revenue']].sort_values('revenue'),cmap = 'coolwarm', annot=True);"
   ]
  },
  {
   "cell_type": "code",
   "execution_count": 44,
   "metadata": {},
   "outputs": [
    {
     "data": {
      "text/plain": [
       "0.6946230381066479"
      ]
     },
     "execution_count": 44,
     "metadata": {},
     "output_type": "execute_result"
    }
   ],
   "source": [
    "lr = LinearRegression()\n",
    "X_train, X_test, y_train, y_test = train_test_split(X, y, random_state = 241)\n",
    "lr.fit(X_train, y_train)\n",
    "lr.score(X_test,y_test)"
   ]
  },
  {
   "cell_type": "code",
   "execution_count": null,
   "metadata": {},
   "outputs": [],
   "source": []
  },
  {
   "cell_type": "code",
   "execution_count": 45,
   "metadata": {},
   "outputs": [],
   "source": [
    "y_output = list(lr.predict(X_test))"
   ]
  },
  {
   "cell_type": "code",
   "execution_count": 46,
   "metadata": {},
   "outputs": [],
   "source": [
    "X_train, X_test, y_train, y_test = train_test_split(X, y, random_state = 42)"
   ]
  },
  {
   "cell_type": "code",
   "execution_count": 47,
   "metadata": {},
   "outputs": [
    {
     "name": "stdout",
     "output_type": "stream",
     "text": [
      "0.6946230381066479\n",
      "241\n"
     ]
    }
   ],
   "source": [
    "lr = LinearRegression()\n",
    "scores = []\n",
    "maximum_found = 0\n",
    "maximum_index = 0\n",
    "for x in range(500):\n",
    "    X_train, X_test, y_train, y_test = train_test_split(X, y, random_state = x)\n",
    "    lr.fit(X_train, y_train)\n",
    "    scores.append(lr.score(X_test, y_test))\n",
    "    if lr.score(X_test, y_test)>maximum_found:\n",
    "        maximum_found=lr.score(X_test, y_test)\n",
    "        maximum_index = x\n",
    "\n",
    "print(maximum_found)\n",
    "print(maximum_index)"
   ]
  },
  {
   "cell_type": "code",
   "execution_count": 48,
   "metadata": {},
   "outputs": [
    {
     "name": "stderr",
     "output_type": "stream",
     "text": [
      "C:\\Users\\inser\\anaconda3\\envs\\dsi\\lib\\site-packages\\sklearn\\linear_model\\_coordinate_descent.py:476: ConvergenceWarning: Objective did not converge. You might want to increase the number of iterations. Duality gap: 4.0030342119859584e+18, tolerance: 3335076777216810.5\n",
      "  positive)\n",
      "C:\\Users\\inser\\anaconda3\\envs\\dsi\\lib\\site-packages\\sklearn\\linear_model\\_coordinate_descent.py:476: ConvergenceWarning: Objective did not converge. You might want to increase the number of iterations. Duality gap: 4.4742463230692244e+18, tolerance: 3426396300145872.0\n",
      "  positive)\n",
      "C:\\Users\\inser\\anaconda3\\envs\\dsi\\lib\\site-packages\\sklearn\\linear_model\\_coordinate_descent.py:476: ConvergenceWarning: Objective did not converge. You might want to increase the number of iterations. Duality gap: 4.0435275056980966e+18, tolerance: 3554978925131082.5\n",
      "  positive)\n",
      "C:\\Users\\inser\\anaconda3\\envs\\dsi\\lib\\site-packages\\sklearn\\linear_model\\_coordinate_descent.py:476: ConvergenceWarning: Objective did not converge. You might want to increase the number of iterations. Duality gap: 4.518321008367399e+18, tolerance: 3267391676609174.0\n",
      "  positive)\n",
      "C:\\Users\\inser\\anaconda3\\envs\\dsi\\lib\\site-packages\\sklearn\\linear_model\\_coordinate_descent.py:476: ConvergenceWarning: Objective did not converge. You might want to increase the number of iterations. Duality gap: 3.9453879450166323e+18, tolerance: 3531823576770545.0\n",
      "  positive)\n"
     ]
    },
    {
     "data": {
      "text/plain": [
       "0.39866180617295044"
      ]
     },
     "execution_count": 48,
     "metadata": {},
     "output_type": "execute_result"
    }
   ],
   "source": [
    "poly = PolynomialFeatures(degree=2, interaction_only=False, include_bias=False)\n",
    "X_train = poly.fit_transform(X_train)\n",
    "X_test = poly.transform(X_test)\n",
    "ss = StandardScaler()\n",
    "X_train = ss.fit_transform(X_train)\n",
    "X_test = ss.transform(X_test)\n",
    "l1 = Lasso(alpha = 100)\n",
    "cross_val_score(l1, X_train, y_train).mean()"
   ]
  },
  {
   "cell_type": "code",
   "execution_count": 49,
   "metadata": {},
   "outputs": [
    {
     "data": {
      "text/plain": [
       "VotingRegressor(estimators=[('knn',\n",
       "                             Pipeline(memory=None,\n",
       "                                      steps=[('knn',\n",
       "                                              KNeighborsRegressor(algorithm='auto',\n",
       "                                                                  leaf_size=30,\n",
       "                                                                  metric='minkowski',\n",
       "                                                                  metric_params=None,\n",
       "                                                                  n_jobs=None,\n",
       "                                                                  n_neighbors=5,\n",
       "                                                                  p=2,\n",
       "                                                                  weights='uniform'))],\n",
       "                                      verbose=False)),\n",
       "                            ('dt',\n",
       "                             DecisionTreeRegressor(ccp_alpha=0.0,\n",
       "                                                   criterion='mse',\n",
       "                                                   max_depth=None,\n",
       "                                                   max_features=None,\n",
       "                                                   max_leaf_nodes=None,\n",
       "                                                   min_impurity_d...\n",
       "                                                                                   min_impurity_decrease=0.0,\n",
       "                                                                                   min_impurity_split=None,\n",
       "                                                                                   min_samples_leaf=1,\n",
       "                                                                                   min_samples_split=2,\n",
       "                                                                                   min_weight_fraction_leaf=0.0,\n",
       "                                                                                   presort='deprecated',\n",
       "                                                                                   random_state=None,\n",
       "                                                                                   splitter='best'),\n",
       "                                              bootstrap=True,\n",
       "                                              bootstrap_features=False,\n",
       "                                              max_features=1.0, max_samples=1.0,\n",
       "                                              n_estimators=10, n_jobs=None,\n",
       "                                              oob_score=False,\n",
       "                                              random_state=None, verbose=0,\n",
       "                                              warm_start=False))],\n",
       "                n_jobs=None, weights=None)"
      ]
     },
     "execution_count": 49,
     "metadata": {},
     "output_type": "execute_result"
    }
   ],
   "source": [
    "pipes = Pipeline([('knn', KNeighborsRegressor())])\n",
    "vote = VotingRegressor([('knn', pipes),\\\n",
    "         ('dt',DecisionTreeRegressor()),\\\n",
    "                     ('ada', AdaBoostRegressor()),\n",
    "          ('rf', RandomForestRegressor()),\n",
    "                    ('svr', SVR()),\n",
    "                    ('bag', \\\n",
    "                     BaggingRegressor(DecisionTreeRegressor()))])\n",
    "vote.fit(X_train, y_train)"
   ]
  },
  {
   "cell_type": "code",
   "execution_count": 50,
   "metadata": {},
   "outputs": [
    {
     "data": {
      "text/plain": [
       "0.8463796753152493"
      ]
     },
     "execution_count": 50,
     "metadata": {},
     "output_type": "execute_result"
    }
   ],
   "source": [
    "vote.score(X_train, y_train)"
   ]
  },
  {
   "cell_type": "code",
   "execution_count": 51,
   "metadata": {},
   "outputs": [
    {
     "data": {
      "text/plain": [
       "0.6483591263715227"
      ]
     },
     "execution_count": 51,
     "metadata": {},
     "output_type": "execute_result"
    }
   ],
   "source": [
    "vote.score(X_test,y_test)"
   ]
  },
  {
   "cell_type": "code",
   "execution_count": null,
   "metadata": {},
   "outputs": [],
   "source": []
  }
 ],
 "metadata": {
  "kernelspec": {
   "display_name": "Python 3",
   "language": "python",
   "name": "python3"
  },
  "language_info": {
   "codemirror_mode": {
    "name": "ipython",
    "version": 3
   },
   "file_extension": ".py",
   "mimetype": "text/x-python",
   "name": "python",
   "nbconvert_exporter": "python",
   "pygments_lexer": "ipython3",
   "version": "3.7.7"
  }
 },
 "nbformat": 4,
 "nbformat_minor": 4
}
